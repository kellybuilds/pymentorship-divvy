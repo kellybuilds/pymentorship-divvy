{
 "cells": [
  {
   "cell_type": "code",
   "execution_count": 1,
   "metadata": {},
   "outputs": [],
   "source": [
    "import sys\n",
    "import os\n",
    "import matplotlib.pyplot as plt\n",
    "import numpy as np\n",
    "import pandas as pd"
   ]
  },
  {
   "cell_type": "code",
   "execution_count": 2,
   "metadata": {},
   "outputs": [],
   "source": [
    "os.chdir('C:/Users/Kelly/Desktop/pymentorship_data/divvy_data')\n",
    "filepath = ('C:/Users/Kelly/Desktop/pymentorship_data/divvy_data')"
   ]
  },
  {
   "cell_type": "markdown",
   "metadata": {},
   "source": [
    "Downloaded divvy data (2013-2018) from https://www.divvybikes.com/system-data"
   ]
  },
  {
   "cell_type": "markdown",
   "metadata": {},
   "source": [
    "Combine Divvy station data into one dataframe; Currently only looking at 2016-2018 data"
   ]
  },
  {
   "cell_type": "code",
   "execution_count": 3,
   "metadata": {},
   "outputs": [
    {
     "name": "stdout",
     "output_type": "stream",
     "text": [
      "Reading file: Divvy_Trips_2016_04.csv\n",
      "Success with this file! Length of df: 231635\n",
      "Reading file: Divvy_Trips_2016_05.csv\n",
      "Success with this file! Length of df: 594954\n",
      "Reading file: Divvy_Trips_2016_06.csv\n",
      "Success with this file! Length of df: 1072827\n",
      "Reading file: Divvy_Trips_2016_Q1.csv\n",
      "Success with this file! Length of df: 1469740\n",
      "Reading file: Divvy_Trips_2016_Q3.csv\n",
      "Success with this file! Length of df: 2911551\n",
      "Reading file: Divvy_Trips_2016_Q4.csv\n",
      "Success with this file! Length of df: 3595383\n",
      "Reading file: Divvy_Trips_2017_Q1.csv\n",
      "Success with this file! Length of df: 4027074\n",
      "Reading file: Divvy_Trips_2017_Q2.csv\n",
      "Success with this file! Length of df: 5146888\n",
      "Reading file: Divvy_Trips_2017_Q3.csv\n",
      "Success with this file! Length of df: 6755158\n",
      "Reading file: Divvy_Trips_2017_Q4.csv\n",
      "Success with this file! Length of df: 7424397\n",
      "Reading file: Divvy_Trips_2018_Q1.csv\n",
      "Success with this file! Length of df: 7811542\n",
      "Reading file: Divvy_Trips_2018_Q2.csv\n",
      "Success with this file! Length of df: 8871223\n",
      "Reading file: Divvy_Trips_2018_Q3.csv\n",
      "Success with this file! Length of df: 10384793\n",
      "Reading file: Divvy_Trips_2018_Q4.csv\n",
      "Success with this file! Length of df: 11027479\n"
     ]
    }
   ],
   "source": [
    "#create empty dataframe with headers\n",
    "testcsv = pd.read_csv(next(os.walk(filepath))[2][0])\n",
    "headers = testcsv.columns.tolist()\n",
    "df = pd.DataFrame(columns=headers)\n",
    "\n",
    "#Add data from CSV file if \"Trips\" is in the filename\n",
    "files = next(os.walk(filepath))[2]\n",
    "for filename in files:\n",
    "    if 'Trips' in filename:\n",
    "        print('Reading file: ' + filename)\n",
    "        temp_df = pd.read_csv(filename)\n",
    "        #concat function\n",
    "        df = pd.concat([df, temp_df], ignore_index=True)\n",
    "        print('Success with this file! Length of df: ' + str(len(df)))"
   ]
  },
  {
   "cell_type": "code",
   "execution_count": 4,
   "metadata": {},
   "outputs": [
    {
     "data": {
      "text/html": [
       "<div>\n",
       "<style>\n",
       "    .dataframe thead tr:only-child th {\n",
       "        text-align: right;\n",
       "    }\n",
       "\n",
       "    .dataframe thead th {\n",
       "        text-align: left;\n",
       "    }\n",
       "\n",
       "    .dataframe tbody tr th {\n",
       "        vertical-align: top;\n",
       "    }\n",
       "</style>\n",
       "<table border=\"1\" class=\"dataframe\">\n",
       "  <thead>\n",
       "    <tr style=\"text-align: right;\">\n",
       "      <th></th>\n",
       "      <th>bikeid</th>\n",
       "      <th>birthyear</th>\n",
       "      <th>end_time</th>\n",
       "      <th>from_station_id</th>\n",
       "      <th>from_station_name</th>\n",
       "      <th>gender</th>\n",
       "      <th>start_time</th>\n",
       "      <th>starttime</th>\n",
       "      <th>stoptime</th>\n",
       "      <th>to_station_id</th>\n",
       "      <th>to_station_name</th>\n",
       "      <th>trip_id</th>\n",
       "      <th>tripduration</th>\n",
       "      <th>usertype</th>\n",
       "    </tr>\n",
       "  </thead>\n",
       "  <tbody>\n",
       "    <tr>\n",
       "      <th>0</th>\n",
       "      <td>21</td>\n",
       "      <td>1982.0</td>\n",
       "      <td>NaN</td>\n",
       "      <td>123</td>\n",
       "      <td>California Ave &amp; Milwaukee Ave</td>\n",
       "      <td>Male</td>\n",
       "      <td>NaN</td>\n",
       "      <td>4/30/2016 23:59</td>\n",
       "      <td>5/1/2016 0:11</td>\n",
       "      <td>374</td>\n",
       "      <td>Western Ave &amp; Walton St</td>\n",
       "      <td>9379901</td>\n",
       "      <td>733</td>\n",
       "      <td>Subscriber</td>\n",
       "    </tr>\n",
       "    <tr>\n",
       "      <th>1</th>\n",
       "      <td>3583</td>\n",
       "      <td>1991.0</td>\n",
       "      <td>NaN</td>\n",
       "      <td>349</td>\n",
       "      <td>Halsted St &amp; Wrightwood Ave</td>\n",
       "      <td>Male</td>\n",
       "      <td>NaN</td>\n",
       "      <td>4/30/2016 23:58</td>\n",
       "      <td>5/1/2016 0:07</td>\n",
       "      <td>165</td>\n",
       "      <td>Clark St &amp; Grace St</td>\n",
       "      <td>9379900</td>\n",
       "      <td>556</td>\n",
       "      <td>Subscriber</td>\n",
       "    </tr>\n",
       "    <tr>\n",
       "      <th>2</th>\n",
       "      <td>4557</td>\n",
       "      <td>1984.0</td>\n",
       "      <td>NaN</td>\n",
       "      <td>59</td>\n",
       "      <td>Wabash Ave &amp; Roosevelt Rd</td>\n",
       "      <td>Male</td>\n",
       "      <td>NaN</td>\n",
       "      <td>4/30/2016 23:58</td>\n",
       "      <td>5/1/2016 0:02</td>\n",
       "      <td>273</td>\n",
       "      <td>Michigan Ave &amp; 18th St</td>\n",
       "      <td>9379899</td>\n",
       "      <td>253</td>\n",
       "      <td>Subscriber</td>\n",
       "    </tr>\n",
       "    <tr>\n",
       "      <th>3</th>\n",
       "      <td>2443</td>\n",
       "      <td>1978.0</td>\n",
       "      <td>NaN</td>\n",
       "      <td>289</td>\n",
       "      <td>Wells St &amp; Concord Ln</td>\n",
       "      <td>Male</td>\n",
       "      <td>NaN</td>\n",
       "      <td>4/30/2016 23:54</td>\n",
       "      <td>5/1/2016 0:08</td>\n",
       "      <td>199</td>\n",
       "      <td>Wabash Ave &amp; Grand Ave</td>\n",
       "      <td>9379898</td>\n",
       "      <td>802</td>\n",
       "      <td>Subscriber</td>\n",
       "    </tr>\n",
       "    <tr>\n",
       "      <th>4</th>\n",
       "      <td>50</td>\n",
       "      <td>NaN</td>\n",
       "      <td>NaN</td>\n",
       "      <td>239</td>\n",
       "      <td>Western Ave &amp; Leland Ave</td>\n",
       "      <td>NaN</td>\n",
       "      <td>NaN</td>\n",
       "      <td>4/30/2016 23:52</td>\n",
       "      <td>5/1/2016 0:11</td>\n",
       "      <td>227</td>\n",
       "      <td>Southport Ave &amp; Waveland Ave</td>\n",
       "      <td>9379897</td>\n",
       "      <td>1146</td>\n",
       "      <td>Customer</td>\n",
       "    </tr>\n",
       "  </tbody>\n",
       "</table>\n",
       "</div>"
      ],
      "text/plain": [
       "  bikeid  birthyear end_time from_station_id               from_station_name  \\\n",
       "0     21     1982.0      NaN             123  California Ave & Milwaukee Ave   \n",
       "1   3583     1991.0      NaN             349     Halsted St & Wrightwood Ave   \n",
       "2   4557     1984.0      NaN              59       Wabash Ave & Roosevelt Rd   \n",
       "3   2443     1978.0      NaN             289           Wells St & Concord Ln   \n",
       "4     50        NaN      NaN             239        Western Ave & Leland Ave   \n",
       "\n",
       "  gender start_time        starttime       stoptime to_station_id  \\\n",
       "0   Male        NaN  4/30/2016 23:59  5/1/2016 0:11           374   \n",
       "1   Male        NaN  4/30/2016 23:58  5/1/2016 0:07           165   \n",
       "2   Male        NaN  4/30/2016 23:58  5/1/2016 0:02           273   \n",
       "3   Male        NaN  4/30/2016 23:54  5/1/2016 0:08           199   \n",
       "4    NaN        NaN  4/30/2016 23:52  5/1/2016 0:11           227   \n",
       "\n",
       "                to_station_name  trip_id tripduration    usertype  \n",
       "0       Western Ave & Walton St  9379901          733  Subscriber  \n",
       "1           Clark St & Grace St  9379900          556  Subscriber  \n",
       "2        Michigan Ave & 18th St  9379899          253  Subscriber  \n",
       "3        Wabash Ave & Grand Ave  9379898          802  Subscriber  \n",
       "4  Southport Ave & Waveland Ave  9379897         1146    Customer  "
      ]
     },
     "execution_count": 4,
     "metadata": {},
     "output_type": "execute_result"
    }
   ],
   "source": [
    "df.head()"
   ]
  },
  {
   "cell_type": "code",
   "execution_count": 5,
   "metadata": {},
   "outputs": [
    {
     "data": {
      "text/plain": [
       "11027479"
      ]
     },
     "execution_count": 5,
     "metadata": {},
     "output_type": "execute_result"
    }
   ],
   "source": [
    "len(df)"
   ]
  },
  {
   "cell_type": "code",
   "execution_count": 6,
   "metadata": {},
   "outputs": [
    {
     "data": {
      "text/plain": [
       "['bikeid',\n",
       " 'birthyear',\n",
       " 'end_time',\n",
       " 'from_station_id',\n",
       " 'from_station_name',\n",
       " 'gender',\n",
       " 'start_time',\n",
       " 'starttime',\n",
       " 'stoptime',\n",
       " 'to_station_id',\n",
       " 'to_station_name',\n",
       " 'trip_id',\n",
       " 'tripduration',\n",
       " 'usertype']"
      ]
     },
     "execution_count": 6,
     "metadata": {},
     "output_type": "execute_result"
    }
   ],
   "source": [
    "df.columns.tolist()"
   ]
  },
  {
   "cell_type": "markdown",
   "metadata": {},
   "source": [
    "Downloaded weather data from https://www.ncdc.noaa.gov; Put weather data into dataframe... iterrows?"
   ]
  },
  {
   "cell_type": "code",
   "execution_count": 16,
   "metadata": {},
   "outputs": [
    {
     "data": {
      "text/plain": [
       "'4/30/2016 23:37'"
      ]
     },
     "execution_count": 16,
     "metadata": {},
     "output_type": "execute_result"
    }
   ],
   "source": [
    "df.starttime[9]"
   ]
  },
  {
   "cell_type": "code",
   "execution_count": null,
   "metadata": {},
   "outputs": [],
   "source": []
  },
  {
   "cell_type": "code",
   "execution_count": null,
   "metadata": {},
   "outputs": [],
   "source": []
  }
 ],
 "metadata": {
  "kernelspec": {
   "display_name": "Python 3",
   "language": "python",
   "name": "python3"
  },
  "language_info": {
   "codemirror_mode": {
    "name": "ipython",
    "version": 3
   },
   "file_extension": ".py",
   "mimetype": "text/x-python",
   "name": "python",
   "nbconvert_exporter": "python",
   "pygments_lexer": "ipython3",
   "version": "3.6.2"
  }
 },
 "nbformat": 4,
 "nbformat_minor": 2
}
