{
 "cells": [
  {
   "cell_type": "code",
   "execution_count": 1,
   "metadata": {},
   "outputs": [],
   "source": [
    "import sys\n",
    "import os\n",
    "import matplotlib.pyplot as plt\n",
    "import numpy as np\n",
    "import pandas as pd"
   ]
  },
  {
   "cell_type": "code",
   "execution_count": 2,
   "metadata": {},
   "outputs": [],
   "source": [
    "os.chdir('C:/Users/Kelly/Dropbox/pymentorship/project')\n",
    "filepath = ('C:/Users/Kelly/Dropbox/pymentorship/project')"
   ]
  },
  {
   "cell_type": "markdown",
   "metadata": {},
   "source": [
    "Downloaded data (2013-2018) from https://www.divvybikes.com/system-data"
   ]
  },
  {
   "cell_type": "markdown",
   "metadata": {},
   "source": [
    "Combine Divvy station data into one neat dataframe"
   ]
  },
  {
   "cell_type": "code",
   "execution_count": null,
   "metadata": {},
   "outputs": [],
   "source": [
    "#Add data from CSV file if \"Trips\" is in the filename\n",
    "files = next(os.walk(filepath))[2]\n",
    "df = pd.read_csv(filepath + '/Divvy_Trip_2013.csv')   #First dataset from 2013 becomes df\n",
    "for filename in files:\n",
    "    if 'Trips' in filename:\n",
    "        print('Reading file: ' + filename)\n",
    "        temp_df = pd.read_csv(filename)\n",
    "        #Renamed for the merge function -- not all first columns in dfs are the same, but I checked to see that they were the trip ids\n",
    "        temp_df.rename(columns={temp_df.columns[1]: 'trip_id', temp_df.columns[2]: 'starttime', temp_df.columns[3]: 'stoptime'})\n",
    "        df = pd.merge(df, temp_df, how='outer')\n",
    "        print('Column headers are: ' + str(list(df.columns.values)))\n",
    "        print('Number of column headers: ' + str(len(df.columns.values)))\n",
    "        print('Success with this file! Length of df: ' + str(len(df)))"
   ]
  }
 ],
 "metadata": {
  "kernelspec": {
   "display_name": "Python 3",
   "language": "python",
   "name": "python3"
  },
  "language_info": {
   "codemirror_mode": {
    "name": "ipython",
    "version": 3
   },
   "file_extension": ".py",
   "mimetype": "text/x-python",
   "name": "python",
   "nbconvert_exporter": "python",
   "pygments_lexer": "ipython3",
   "version": "3.6.2"
  }
 },
 "nbformat": 4,
 "nbformat_minor": 2
}
